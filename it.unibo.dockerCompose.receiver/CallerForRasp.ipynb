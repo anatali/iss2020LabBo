{
 "cells": [
  {
   "cell_type": "code",
   "execution_count": 2,
   "metadata": {},
   "outputs": [
    {
     "name": "stdout",
     "output_type": "stream",
     "text": [
      "CONNECTED  ('192.168.1.34', 8037)\n",
      "request  msg(cmd,dispatch,python,dcreceiver,cmd(python),5)\n",
      "BYE\n"
     ]
    }
   ],
   "source": [
    "##############################################################\n",
    "# CallerForRasp\n",
    "# related to the project it.unibo.dockerCompose.receiver\n",
    "##############################################################\n",
    "import socket\n",
    "import time\n",
    "\n",
    "port   = 8037\n",
    "ipaddr = \"192.168.1.34\"\n",
    "sock   = socket.socket(socket.AF_INET, socket.SOCK_STREAM)\n",
    "\n",
    "cmdmsg   = \"msg(cmd,dispatch,python,dcreceiver,cmd(python),5)\"\n",
    "### alarm = \"msg(alarm,event,python,none,alarm(fire),3)\"\n",
    "\n",
    "def connect(port) :\n",
    "    server_address = (ipaddr, port)\n",
    "    sock.connect(server_address)    \n",
    "    print(\"CONNECTED \" , server_address)\n",
    "\n",
    "def forward( message ) :\n",
    "    print(\"forward \", message)\n",
    "    msg = message + \"\\n\"\n",
    "    byt=msg.encode()    #required in Python3\n",
    "    sock.send(byt)\n",
    "\n",
    "def request( message ) :\n",
    "    print(\"request \", message)\n",
    "    msg = message + \"\\n\"\n",
    "    byt=msg.encode()    #required in Python3\n",
    "    sock.send(byt)\n",
    "    ## handleAnswer()   ##No answer expected, sind dispatch\n",
    "\n",
    "def handleAnswer() :\n",
    "    print(\"handleAnswer \" )\n",
    "    while True:  ##client wants to maintain the connection\n",
    "        reply = ''\n",
    "        while True:\n",
    "            answer = sock.recv(50)\n",
    "            ## print(\"answer len=\", len(answer))\n",
    "            if len(answer) <= 0 :\n",
    "                break\n",
    "            reply += answer.decode(\"utf-8\")\n",
    "            ## print(\"reply=\", reply)\n",
    "            if reply.endswith(\"\\n\") :\n",
    "                break\n",
    "        print(\"final reply=\", reply)\n",
    "        break\n",
    "\n",
    "        \n",
    "\n",
    "def emit( event ) :\n",
    "    print(\"emit \", event)\n",
    "    msg = event + \"\\n\"\n",
    "    byt=msg.encode()    #required in Python3\n",
    "    sock.send(byt)\n",
    "\n",
    "def work() :\n",
    "    request( cmdmsg ) \n",
    "    ## time.sleep(1)\n",
    "    ## emit( alarm )\n",
    "    ## forward( msg2 ) \n",
    "\n",
    "\n",
    "def terminate() :\n",
    "    sock.close()\n",
    "\n",
    "\n",
    "###########################################    \n",
    "connect(port)\n",
    "work()\n",
    "##terminate()  \n",
    "print(\"BYE\")"
   ]
  },
  {
   "cell_type": "code",
   "execution_count": null,
   "metadata": {},
   "outputs": [],
   "source": []
  },
  {
   "cell_type": "code",
   "execution_count": null,
   "metadata": {},
   "outputs": [],
   "source": []
  }
 ],
 "metadata": {
  "kernelspec": {
   "display_name": "Python 3",
   "language": "python",
   "name": "python3"
  },
  "language_info": {
   "codemirror_mode": {
    "name": "ipython",
    "version": 3
   },
   "file_extension": ".py",
   "mimetype": "text/x-python",
   "name": "python",
   "nbconvert_exporter": "python",
   "pygments_lexer": "ipython3",
   "version": "3.7.3"
  }
 },
 "nbformat": 4,
 "nbformat_minor": 2
}
